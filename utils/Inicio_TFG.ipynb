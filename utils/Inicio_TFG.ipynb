{
 "cells": [
  {
   "cell_type": "markdown",
   "metadata": {
    "id": "sCdUs9VUkg8L"
   },
   "source": [
    "# Image class creation"
   ]
  },
  {
   "cell_type": "markdown",
   "metadata": {
    "id": "LG_gpO1Ky3QH"
   },
   "source": [
    "## Class\n",
    "We are going to use the class \"ImageFolder\""
   ]
  },
  {
   "cell_type": "code",
   "execution_count": 2,
   "metadata": {
    "executionInfo": {
     "elapsed": 4656,
     "status": "ok",
     "timestamp": 1617629590371,
     "user": {
      "displayName": "Angela Martinez",
      "photoUrl": "",
      "userId": "07148972717248888383"
     },
     "user_tz": -120
    },
    "id": "VP20N1HUvtlE"
   },
   "outputs": [],
   "source": [
    "import os\n",
    "\n",
    "from torchvision.datasets import ImageFolder\n",
    "from torchvision.transforms import ToTensor, Resize, Compose"
   ]
  },
  {
   "cell_type": "code",
   "execution_count": 3,
   "metadata": {
    "id": "ex0Fyi7_vs0F"
   },
   "outputs": [
    {
     "name": "stdout",
     "output_type": "stream",
     "text": [
      "['cartoon3D', 'real', 'cartoon2D']\n"
     ]
    }
   ],
   "source": [
    "data_dir = '/home/gines/Escritorio/TFG/data'\n",
    "classes = os.listdir(data_dir)\n",
    "print(classes)"
   ]
  },
  {
   "cell_type": "markdown",
   "metadata": {},
   "source": [
    "The functions have different sizes, we must resize them to the same size, the images have a size of \n",
    "* Cartoon2D : 3840 width x 1634 height\n",
    "* Cartoon3D : 1920 width x 816 height\n",
    "* Real: 1920 wide x 816 high\n",
    "\n",
    "So we choose the smallest: 1920 wide x 816 high"
   ]
  },
  {
   "cell_type": "code",
   "execution_count": 4,
   "metadata": {},
   "outputs": [],
   "source": [
    "transform_custom = Compose(\n",
    "    [Resize((1920, 816)),\n",
    "     ToTensor()])\n",
    "\n",
    "dataset = ImageFolder(data_dir, transform = transform_custom)"
   ]
  },
  {
   "cell_type": "markdown",
   "metadata": {},
   "source": [
    "## Training and validation dataset\n",
    "We generate training and validation\n",
    "from torch.utils.data import random_split dataset"
   ]
  },
  {
   "cell_type": "code",
   "execution_count": 5,
   "metadata": {},
   "outputs": [],
   "source": [
    "import torch\n",
    "\n",
    "from torch.utils.data import random_split\n",
    "from torch.utils.data.dataloader import DataLoader"
   ]
  },
  {
   "cell_type": "code",
   "execution_count": 6,
   "metadata": {},
   "outputs": [
    {
     "data": {
      "text/plain": [
       "(155, 10)"
      ]
     },
     "execution_count": 6,
     "metadata": {},
     "output_type": "execute_result"
    }
   ],
   "source": [
    "random_seed = 42\n",
    "torch.manual_seed(random_seed);\n",
    "\n",
    "val_size = 10\n",
    "train_size = len(dataset) - val_size\n",
    "\n",
    "train_ds, val_ds = random_split(dataset, [train_size, val_size])\n",
    "len(train_ds), len(val_ds)"
   ]
  },
  {
   "cell_type": "code",
   "execution_count": 7,
   "metadata": {
    "id": "TUeQWPASv5ss"
   },
   "outputs": [],
   "source": [
    "batch_size=12\n",
    "\n",
    "train_dl = DataLoader(train_ds, batch_size, shuffle=True, num_workers=4, pin_memory=True)\n",
    "val_dl = DataLoader(val_ds, batch_size*2, num_workers=4, pin_memory=True)"
   ]
  },
  {
   "cell_type": "markdown",
   "metadata": {
    "id": "8WyeN7gtkoIr"
   },
   "source": [
    "# Modelo creation"
   ]
  },
  {
   "cell_type": "markdown",
   "metadata": {
    "id": "MxjHF4BQSz7O"
   },
   "source": [
    "## Importación de datos"
   ]
  },
  {
   "cell_type": "markdown",
   "metadata": {
    "id": "Q41ZTHxBfOVD"
   },
   "source": [
    "## Base class\n",
    "We define \"ImageClassificationBase\" class to use it later."
   ]
  },
  {
   "cell_type": "code",
   "execution_count": 8,
   "metadata": {
    "executionInfo": {
     "elapsed": 856,
     "status": "ok",
     "timestamp": 1617630648108,
     "user": {
      "displayName": "Angela Martinez",
      "photoUrl": "",
      "userId": "07148972717248888383"
     },
     "user_tz": -120
    },
    "id": "uOlimiJlfNzA"
   },
   "outputs": [],
   "source": [
    "import torch.nn as nn\n",
    "import torch.nn.functional as F"
   ]
  },
  {
   "cell_type": "code",
   "execution_count": 9,
   "metadata": {
    "executionInfo": {
     "elapsed": 871,
     "status": "ok",
     "timestamp": 1617630649936,
     "user": {
      "displayName": "Angela Martinez",
      "photoUrl": "",
      "userId": "07148972717248888383"
     },
     "user_tz": -120
    },
    "id": "GT3jU7ezfvi5"
   },
   "outputs": [],
   "source": [
    "class ImageClassificationBase(nn.Module):\n",
    "    def training_step(self, batch):\n",
    "        images, labels = batch \n",
    "        out = self(images)                  # Generate predictions\n",
    "        loss = F.cross_entropy(out, labels) # Calculate loss\n",
    "        return loss\n",
    "    \n",
    "    def validation_step(self, batch):\n",
    "        images, labels = batch \n",
    "        out = self(images)                    # Generate predictions\n",
    "        loss = F.cross_entropy(out, labels)   # Calculate loss\n",
    "        acc = accuracy(out, labels)           # Calculate accuracy\n",
    "        return {'val_loss': loss.detach(), 'val_acc': acc}\n",
    "        \n",
    "    def validation_epoch_end(self, outputs):\n",
    "        batch_losses = [x['val_loss'] for x in outputs]\n",
    "        epoch_loss = torch.stack(batch_losses).mean()   # Combine losses\n",
    "        batch_accs = [x['val_acc'] for x in outputs]\n",
    "        epoch_acc = torch.stack(batch_accs).mean()      # Combine accuracies\n",
    "        return {'val_loss': epoch_loss.item(), 'val_acc': epoch_acc.item()}\n",
    "    \n",
    "    def epoch_end(self, epoch, result):\n",
    "        print(\"Epoch [{}], train_loss: {:.4f}, val_loss: {:.4f}, val_acc: {:.4f}\".format(\n",
    "            epoch, result['train_loss'], result['val_loss'], result['val_acc']))\n",
    "        \n",
    "def accuracy(outputs, labels):\n",
    "    _, preds = torch.max(outputs, dim=1)\n",
    "    return torch.tensor(torch.sum(preds == labels).item() / len(preds))"
   ]
  },
  {
   "cell_type": "markdown",
   "metadata": {
    "id": "weiPsb8vk4fq"
   },
   "source": [
    "## Modelo StarWars"
   ]
  },
  {
   "cell_type": "code",
   "execution_count": 10,
   "metadata": {
    "executionInfo": {
     "elapsed": 860,
     "status": "ok",
     "timestamp": 1617630805139,
     "user": {
      "displayName": "Angela Martinez",
      "photoUrl": "",
      "userId": "07148972717248888383"
     },
     "user_tz": -120
    },
    "id": "OVbqNfFnf19h"
   },
   "outputs": [],
   "source": [
    "class StarWarsCnnModel(ImageClassificationBase):\n",
    "    def __init__(self):\n",
    "        super().__init__()\n",
    "        self.network = nn.Sequential(\n",
    "            nn.Conv2d(3, 32, kernel_size=3, padding=1),\n",
    "            nn.ReLU(),\n",
    "            nn.Conv2d(32, 64, kernel_size=3, stride=1, padding=1),\n",
    "            nn.ReLU(),\n",
    "            nn.MaxPool2d(2, 2), # output: 64 x 16 x 16\n",
    "\n",
    "            nn.Conv2d(64, 128, kernel_size=3, stride=1, padding=1),\n",
    "            nn.ReLU(),\n",
    "            nn.Conv2d(128, 128, kernel_size=3, stride=1, padding=1),\n",
    "            nn.ReLU(),\n",
    "            nn.MaxPool2d(2, 2), # output: 128 x 8 x 8\n",
    "\n",
    "            nn.Conv2d(128, 256, kernel_size=3, stride=1, padding=1),\n",
    "            nn.ReLU(),\n",
    "            nn.Conv2d(256, 256, kernel_size=3, stride=1, padding=1),\n",
    "            nn.ReLU(),\n",
    "            nn.MaxPool2d(2, 2), # output: 256 x 4 x 4\n",
    "\n",
    "            nn.Flatten(), \n",
    "            nn.Linear(256*4*4, 1024),\n",
    "            nn.ReLU(),\n",
    "            nn.Linear(1024, 512),\n",
    "            nn.ReLU(),\n",
    "            nn.Linear(512, 10))\n",
    "        \n",
    "    def forward(self, xb):\n",
    "        return self.network(xb)\n",
    "\n",
    "model = StarWarsCnnModel()"
   ]
  },
  {
   "cell_type": "code",
   "execution_count": null,
   "metadata": {
    "id": "A6soWtC3mF1X"
   },
   "outputs": [
    {
     "name": "stdout",
     "output_type": "stream",
     "text": [
      "images.shape: torch.Size([12, 3, 1920, 816])\n"
     ]
    }
   ],
   "source": [
    "for images, labels in train_dl:\n",
    "    print('images.shape:', images.shape)\n",
    "    out = model(images)\n",
    "    print('out.shape:', out.shape)\n",
    "    print('out[0]:', out[0])\n",
    "    break"
   ]
  },
  {
   "cell_type": "markdown",
   "metadata": {},
   "source": [
    "ERROR\n",
    "\n",
    "Traceback (most recent call last):\n",
    "\n",
    "  File \"/home/gines/anaconda3/lib/python3.8/runpy.py\", line 194, in _run_module_as_main\n",
    "    return _run_code(code, main_globals, None,\n",
    "  \n",
    "  File \"/home/gines/anaconda3/lib/python3.8/runpy.py\", line 87, in _run_code\n",
    "    exec(code, run_globals)\n",
    "  \n",
    "  File \"/home/gines/anaconda3/lib/python3.8/site-packages/ipykernel_launcher.py\", line 16, in <module>\n",
    "    app.launch_new_instance()\n",
    "  \n",
    "    File \"/home/gines/anaconda3/lib/python3.8/site-packages/traitlets/config/application.py\", line 844, in launch_instance\n",
    "    app.initialize(argv)\n",
    "  \n",
    "    File \"/home/gines/anaconda3/lib/python3.8/site-packages/traitlets/config/application.py\", line 87, in inner\n",
    "    return method(app, *args, **kwargs)\n",
    " \n",
    "    File \"/home/gines/anaconda3/lib/python3.8/site-packages/ipykernel/kernelapp.py\", line 567, in initialize\n",
    "    self.init_sockets()\n",
    " \n",
    "    File \"/home/gines/anaconda3/lib/python3.8/site-packages/ipykernel/kernelapp.py\", line 271, in init_sockets\n",
    "    self.shell_port = self._bind_socket(self.shell_socket, self.shell_port)\n",
    "  \n",
    "    File \"/home/gines/anaconda3/lib/python3.8/site-packages/ipykernel/kernelapp.py\", line 218, in _bind_socket\n",
    "    return self._try_bind_socket(s, port)\n",
    "  \n",
    "    File \"/home/gines/anaconda3/lib/python3.8/site-packages/ipykernel/kernelapp.py\", line 194, in _try_bind_socket\n",
    "    s.bind(\"tcp://%s:%i\" % (self.ip, port))\n",
    " \n",
    "    File \"zmq/backend/cython/socket.pyx\", line 550, in zmq.backend.cython.socket.Socket.bind\n",
    " \n",
    "    File \"zmq/backend/cython/checkrc.pxd\", line 26, in zmq.backend.cython.checkrc._check_rc\n",
    "zmq.error.ZMQError: Address already in use\n",
    "[I 10:01:25.013 LabApp] KernelRestarter: restarting kernel (2/5), keep random ports\n",
    "kernel ce451f1c-41d0-4283-ba16-19896d932505 restarted\n"
   ]
  },
  {
   "cell_type": "markdown",
   "metadata": {
    "id": "8HXvWg8ymHnq"
   },
   "source": [
    "## Training using GPU"
   ]
  },
  {
   "cell_type": "markdown",
   "metadata": {
    "id": "9hctOf-9lL4C"
   },
   "source": [
    "### Auxiliary functions"
   ]
  },
  {
   "cell_type": "code",
   "execution_count": null,
   "metadata": {
    "executionInfo": {
     "elapsed": 998,
     "status": "ok",
     "timestamp": 1617630708179,
     "user": {
      "displayName": "Angela Martinez",
      "photoUrl": "",
      "userId": "07148972717248888383"
     },
     "user_tz": -120
    },
    "id": "H1gtpwEDmJpK"
   },
   "outputs": [],
   "source": [
    "def get_default_device():\n",
    "    \"\"\"Pick GPU if available, else CPU\"\"\"\n",
    "    if torch.cuda.is_available():\n",
    "        return torch.device('cuda')\n",
    "    else:\n",
    "        return torch.device('cpu')\n",
    "    \n",
    "def to_device(data, device):\n",
    "    \"\"\"Move tensor(s) to chosen device\"\"\"\n",
    "    if isinstance(data, (list,tuple)):\n",
    "        return [to_device(x, device) for x in data]\n",
    "    return data.to(device, non_blocking=True)\n",
    "\n",
    "class DeviceDataLoader():\n",
    "    \"\"\"Wrap a dataloader to move data to a device\"\"\"\n",
    "    def __init__(self, dl, device):\n",
    "        self.dl = dl\n",
    "        self.device = device\n",
    "        \n",
    "    def __iter__(self):\n",
    "        \"\"\"Yield a batch of data after moving it to device\"\"\"\n",
    "        for b in self.dl: \n",
    "            yield to_device(b, self.device)\n",
    "\n",
    "    def __len__(self):\n",
    "        \"\"\"Number of batches\"\"\"\n",
    "        return len(self.dl)"
   ]
  },
  {
   "cell_type": "markdown",
   "metadata": {
    "id": "jOyzciu6lRJ6"
   },
   "source": [
    "### Training"
   ]
  },
  {
   "cell_type": "code",
   "execution_count": null,
   "metadata": {
    "executionInfo": {
     "elapsed": 884,
     "status": "ok",
     "timestamp": 1617630989019,
     "user": {
      "displayName": "Angela Martinez",
      "photoUrl": "",
      "userId": "07148972717248888383"
     },
     "user_tz": -120
    },
    "id": "HZtNkKXaUBGJ"
   },
   "outputs": [],
   "source": [
    "@torch.no_grad()\n",
    "def evaluate(model, val_loader):\n",
    "    model.eval()\n",
    "    outputs = [model.validation_step(batch) for batch in val_loader]\n",
    "    return model.validation_epoch_end(outputs)\n",
    "\n",
    "def fit(epochs, lr, model, train_loader, val_loader, opt_func=torch.optim.SGD):\n",
    "    history = []\n",
    "    optimizer = opt_func(model.parameters(), lr)\n",
    "    for epoch in range(epochs):\n",
    "        # Training Phase \n",
    "        model.train()\n",
    "        train_losses = []\n",
    "        for batch in train_loader:\n",
    "            loss = model.training_step(batch)\n",
    "            train_losses.append(loss)\n",
    "            loss.backward()\n",
    "            optimizer.step()\n",
    "            optimizer.zero_grad()\n",
    "        # Validation phase\n",
    "        result = evaluate(model, val_loader)\n",
    "        result['train_loss'] = torch.stack(train_losses).mean().item()\n",
    "        model.epoch_end(epoch, result)\n",
    "        history.append(result)\n",
    "    return train_losses"
   ]
  },
  {
   "cell_type": "markdown",
   "metadata": {
    "id": "skX-ZSBTUE86"
   },
   "source": [
    "Move data to memory"
   ]
  },
  {
   "cell_type": "code",
   "execution_count": null,
   "metadata": {
    "executionInfo": {
     "elapsed": 1057,
     "status": "ok",
     "timestamp": 1617630991839,
     "user": {
      "displayName": "Angela Martinez",
      "photoUrl": "",
      "userId": "07148972717248888383"
     },
     "user_tz": -120
    },
    "id": "nDoT08UvmN4T"
   },
   "outputs": [],
   "source": [
    "device = get_default_device()\n",
    "train_dl = DeviceDataLoader(train_dl, device) # podemos poner shuffle = True\n",
    "#val_dl = DeviceDataLoader(val_dl, device)\n",
    "to_device(model, device);"
   ]
  },
  {
   "cell_type": "code",
   "execution_count": null,
   "metadata": {
    "id": "HJvPrKsAUL0p"
   },
   "outputs": [],
   "source": [
    "num_epochs = 2\n",
    "lr = 0.001\n",
    "opt_func = torch.optim.Adam\n",
    "\n",
    "history = fit(num_epochs, lr, model, train_dl, train_dl, opt_func)\n",
    "history"
   ]
  }
 ],
 "metadata": {
  "accelerator": "GPU",
  "colab": {
   "collapsed_sections": [],
   "name": "Inicio_TFG.ipynb",
   "provenance": []
  },
  "kernelspec": {
   "display_name": "Python 3",
   "language": "python",
   "name": "python3"
  },
  "language_info": {
   "codemirror_mode": {
    "name": "ipython",
    "version": 3
   },
   "file_extension": ".py",
   "mimetype": "text/x-python",
   "name": "python",
   "nbconvert_exporter": "python",
   "pygments_lexer": "ipython3",
   "version": "3.8.5"
  }
 },
 "nbformat": 4,
 "nbformat_minor": 4
}
